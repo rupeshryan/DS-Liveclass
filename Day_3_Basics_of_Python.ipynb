{
  "nbformat": 4,
  "nbformat_minor": 0,
  "metadata": {
    "colab": {
      "name": "Day 3-Basics of Python.ipynb",
      "provenance": [],
      "collapsed_sections": [],
      "authorship_tag": "ABX9TyNzY6ztyyXxgVbHGa4/qv+i",
      "include_colab_link": true
    },
    "kernelspec": {
      "name": "python3",
      "display_name": "Python 3"
    },
    "language_info": {
      "name": "python"
    }
  },
  "cells": [
    {
      "cell_type": "markdown",
      "metadata": {
        "id": "view-in-github",
        "colab_type": "text"
      },
      "source": [
        "<a href=\"https://colab.research.google.com/github/rupeshryan/Python-Basics/blob/Default-Branch/Day_3_Basics_of_Python.ipynb\" target=\"_parent\"><img src=\"https://colab.research.google.com/assets/colab-badge.svg\" alt=\"Open In Colab\"/></a>"
      ]
    },
    {
      "cell_type": "code",
      "execution_count": 1,
      "metadata": {
        "id": "SxxRuXHjClG9"
      },
      "outputs": [],
      "source": [
        "x=2"
      ]
    },
    {
      "cell_type": "code",
      "source": [
        "type(x) #integer type"
      ],
      "metadata": {
        "colab": {
          "base_uri": "https://localhost:8080/"
        },
        "id": "v7R3fbc9E9cB",
        "outputId": "a8e3209b-0068-4e3f-b755-e981f7cbe815"
      },
      "execution_count": 3,
      "outputs": [
        {
          "output_type": "execute_result",
          "data": {
            "text/plain": [
              "int"
            ]
          },
          "metadata": {},
          "execution_count": 3
        }
      ]
    },
    {
      "cell_type": "code",
      "source": [
        "y=2.5 #float type\n",
        "type(y)"
      ],
      "metadata": {
        "colab": {
          "base_uri": "https://localhost:8080/"
        },
        "id": "OUlyCdXnFliB",
        "outputId": "9e642a41-b04e-43ea-e11f-fae91125a637"
      },
      "execution_count": 5,
      "outputs": [
        {
          "output_type": "execute_result",
          "data": {
            "text/plain": [
              "float"
            ]
          },
          "metadata": {},
          "execution_count": 5
        }
      ]
    },
    {
      "cell_type": "code",
      "source": [
        "z=\"My name is Rupesh\" #string type\n",
        "type(z)\n"
      ],
      "metadata": {
        "colab": {
          "base_uri": "https://localhost:8080/"
        },
        "id": "oelsMxvZF1pg",
        "outputId": "de514f05-a453-4667-a6d4-f513beb9a2e8"
      },
      "execution_count": 7,
      "outputs": [
        {
          "output_type": "execute_result",
          "data": {
            "text/plain": [
              "str"
            ]
          },
          "metadata": {},
          "execution_count": 7
        }
      ]
    },
    {
      "cell_type": "code",
      "source": [
        "zzz= True #Boolean type\n",
        "type(zzz)"
      ],
      "metadata": {
        "colab": {
          "base_uri": "https://localhost:8080/"
        },
        "id": "DUZuu6LcGGaI",
        "outputId": "4e75aa7e-460f-4099-accb-eb5548ad348a"
      },
      "execution_count": 9,
      "outputs": [
        {
          "output_type": "execute_result",
          "data": {
            "text/plain": [
              "bool"
            ]
          },
          "metadata": {},
          "execution_count": 9
        }
      ]
    },
    {
      "cell_type": "code",
      "source": [
        "import math"
      ],
      "metadata": {
        "id": "VX2cGutZGQwh"
      },
      "execution_count": 11,
      "outputs": []
    },
    {
      "cell_type": "code",
      "source": [
        "math.sqrt(1024)"
      ],
      "metadata": {
        "colab": {
          "base_uri": "https://localhost:8080/"
        },
        "id": "1iya7jsGJ6a3",
        "outputId": "b39543ee-ad77-4a32-9a0f-887de71ff27e"
      },
      "execution_count": 17,
      "outputs": [
        {
          "output_type": "execute_result",
          "data": {
            "text/plain": [
              "32.0"
            ]
          },
          "metadata": {},
          "execution_count": 17
        }
      ]
    },
    {
      "cell_type": "code",
      "source": [
        "greeting = \"thank you\" + \"excelr\"\n",
        "greeting"
      ],
      "metadata": {
        "colab": {
          "base_uri": "https://localhost:8080/",
          "height": 36
        },
        "id": "e_aEeiDjKTIk",
        "outputId": "04c96f1e-9bc8-42ef-8d8e-07fbd5dbb8a2"
      },
      "execution_count": 23,
      "outputs": [
        {
          "output_type": "execute_result",
          "data": {
            "text/plain": [
              "'thank youexcelr'"
            ],
            "application/vnd.google.colaboratory.intrinsic+json": {
              "type": "string"
            }
          },
          "metadata": {},
          "execution_count": 23
        }
      ]
    },
    {
      "cell_type": "code",
      "source": [
        "greeting = \"thank you\" + \" \" \"excelr\"  #for space we will have to mention it separately\n",
        "greeting"
      ],
      "metadata": {
        "colab": {
          "base_uri": "https://localhost:8080/",
          "height": 36
        },
        "id": "y1UJ08rrKiZL",
        "outputId": "62557885-8710-4a03-8cc9-5de9352b599a"
      },
      "execution_count": 27,
      "outputs": [
        {
          "output_type": "execute_result",
          "data": {
            "text/plain": [
              "'thank you excelr'"
            ],
            "application/vnd.google.colaboratory.intrinsic+json": {
              "type": "string"
            }
          },
          "metadata": {},
          "execution_count": 27
        }
      ]
    },
    {
      "cell_type": "code",
      "source": [
        "x=123427/3\n",
        "x"
      ],
      "metadata": {
        "colab": {
          "base_uri": "https://localhost:8080/"
        },
        "id": "sBHzXBE6LWPA",
        "outputId": "b47bc016-4122-4d62-ba93-026d63c2c04d"
      },
      "execution_count": 32,
      "outputs": [
        {
          "output_type": "execute_result",
          "data": {
            "text/plain": [
              "41142.333333333336"
            ]
          },
          "metadata": {},
          "execution_count": 32
        }
      ]
    },
    {
      "cell_type": "code",
      "source": [
        "132368==4"
      ],
      "metadata": {
        "colab": {
          "base_uri": "https://localhost:8080/"
        },
        "id": "rrBsn_QRLw9o",
        "outputId": "3b508881-a386-46b2-a272-74be21f6e668"
      },
      "execution_count": 34,
      "outputs": [
        {
          "output_type": "execute_result",
          "data": {
            "text/plain": [
              "False"
            ]
          },
          "metadata": {},
          "execution_count": 34
        }
      ]
    },
    {
      "cell_type": "code",
      "source": [
        "not(483729==3)"
      ],
      "metadata": {
        "colab": {
          "base_uri": "https://localhost:8080/"
        },
        "id": "UFiPpWcAL1eM",
        "outputId": "cc6c5063-fe09-4fc6-a15e-9bcdc4ae4ba6"
      },
      "execution_count": 37,
      "outputs": [
        {
          "output_type": "execute_result",
          "data": {
            "text/plain": [
              "True"
            ]
          },
          "metadata": {},
          "execution_count": 37
        }
      ]
    },
    {
      "cell_type": "code",
      "source": [
        "98327493!=234"
      ],
      "metadata": {
        "colab": {
          "base_uri": "https://localhost:8080/"
        },
        "id": "sbhtFRHRL51O",
        "outputId": "69b6370c-7d49-4c8d-b0cb-a60ae1eafdbc"
      },
      "execution_count": 39,
      "outputs": [
        {
          "output_type": "execute_result",
          "data": {
            "text/plain": [
              "True"
            ]
          },
          "metadata": {},
          "execution_count": 39
        }
      ]
    },
    {
      "cell_type": "code",
      "source": [
        "5>6"
      ],
      "metadata": {
        "colab": {
          "base_uri": "https://localhost:8080/"
        },
        "id": "YayV12B8MEGk",
        "outputId": "a542c4ac-9104-4877-8b88-b01b4f755630"
      },
      "execution_count": 40,
      "outputs": [
        {
          "output_type": "execute_result",
          "data": {
            "text/plain": [
              "False"
            ]
          },
          "metadata": {},
          "execution_count": 40
        }
      ]
    },
    {
      "cell_type": "code",
      "source": [
        "5<6"
      ],
      "metadata": {
        "colab": {
          "base_uri": "https://localhost:8080/"
        },
        "id": "9YUJz2D3MHdR",
        "outputId": "262c9147-8d7f-490c-a654-a740f2676caf"
      },
      "execution_count": 43,
      "outputs": [
        {
          "output_type": "execute_result",
          "data": {
            "text/plain": [
              "True"
            ]
          },
          "metadata": {},
          "execution_count": 43
        }
      ]
    },
    {
      "cell_type": "code",
      "source": [
        "(5<6) & (6<7) # AND Gate"
      ],
      "metadata": {
        "colab": {
          "base_uri": "https://localhost:8080/"
        },
        "id": "87I021lrMo65",
        "outputId": "1f6c5d9e-afa8-4046-8678-304c756a5e7e"
      },
      "execution_count": 44,
      "outputs": [
        {
          "output_type": "execute_result",
          "data": {
            "text/plain": [
              "True"
            ]
          },
          "metadata": {},
          "execution_count": 44
        }
      ]
    },
    {
      "cell_type": "code",
      "source": [
        "(5>6) & (6>7)"
      ],
      "metadata": {
        "colab": {
          "base_uri": "https://localhost:8080/"
        },
        "id": "ZkQqjcH6Nfhd",
        "outputId": "e95ff7cc-4cce-4e57-8be0-fe75f628996f"
      },
      "execution_count": 45,
      "outputs": [
        {
          "output_type": "execute_result",
          "data": {
            "text/plain": [
              "False"
            ]
          },
          "metadata": {},
          "execution_count": 45
        }
      ]
    },
    {
      "cell_type": "code",
      "source": [
        "(5<6) | (6>7) # OR gate"
      ],
      "metadata": {
        "colab": {
          "base_uri": "https://localhost:8080/"
        },
        "id": "-A1TngWwNl7j",
        "outputId": "7c556153-4b7f-4095-b432-8f895320d6e8"
      },
      "execution_count": 48,
      "outputs": [
        {
          "output_type": "execute_result",
          "data": {
            "text/plain": [
              "True"
            ]
          },
          "metadata": {},
          "execution_count": 48
        }
      ]
    },
    {
      "cell_type": "code",
      "source": [
        "(5>6) | (6>7)"
      ],
      "metadata": {
        "colab": {
          "base_uri": "https://localhost:8080/"
        },
        "id": "KHEYEi5PNqrS",
        "outputId": "d9cd89c9-4559-410d-9768-e2e92ccba72b"
      },
      "execution_count": 49,
      "outputs": [
        {
          "output_type": "execute_result",
          "data": {
            "text/plain": [
              "False"
            ]
          },
          "metadata": {},
          "execution_count": 49
        }
      ]
    },
    {
      "cell_type": "code",
      "source": [
        "(5>6) or (6>7)"
      ],
      "metadata": {
        "colab": {
          "base_uri": "https://localhost:8080/"
        },
        "id": "rEMW1warOGcQ",
        "outputId": "8cb4ab86-c521-4127-c5e1-47a5763b8328"
      },
      "execution_count": 51,
      "outputs": [
        {
          "output_type": "execute_result",
          "data": {
            "text/plain": [
              "False"
            ]
          },
          "metadata": {},
          "execution_count": 51
        }
      ]
    },
    {
      "cell_type": "code",
      "source": [
        "#loops\n",
        "\n",
        "#while loop\n",
        "#if/else loop\n",
        "#for loop\n",
        "\n",
        "#indentation(space) is important in python\n",
        "# : - should be kept in all loop statements"
      ],
      "metadata": {
        "id": "04dGW_8QOv7P"
      },
      "execution_count": 52,
      "outputs": []
    },
    {
      "cell_type": "code",
      "source": [
        "#while loop\n",
        "counter=0\n",
        "while counter<=5:\n",
        "  print(counter)\n",
        "  counter = counter+1"
      ],
      "metadata": {
        "colab": {
          "base_uri": "https://localhost:8080/"
        },
        "id": "hrcrfRysQz56",
        "outputId": "53f626f2-1617-4b0e-ae02-ad4a6229e910"
      },
      "execution_count": 57,
      "outputs": [
        {
          "output_type": "stream",
          "name": "stdout",
          "text": [
            "0\n",
            "1\n",
            "2\n",
            "3\n",
            "4\n",
            "5\n"
          ]
        }
      ]
    },
    {
      "cell_type": "code",
      "source": [
        "counter=0\n",
        "while counter<=5:\n",
        "  print(counter)\n",
        "  counter = counter+1\n",
        "print(\"thank you python\")"
      ],
      "metadata": {
        "colab": {
          "base_uri": "https://localhost:8080/"
        },
        "id": "CbRrL7K_RP5h",
        "outputId": "e76de250-540b-49c2-e2fe-e5db627fdf97"
      },
      "execution_count": 58,
      "outputs": [
        {
          "output_type": "stream",
          "name": "stdout",
          "text": [
            "0\n",
            "1\n",
            "2\n",
            "3\n",
            "4\n",
            "5\n",
            "thank you python\n"
          ]
        }
      ]
    },
    {
      "cell_type": "code",
      "source": [
        "counter=7\n",
        "\n",
        "while counter<=5:   #counter starts from 7, while condition is not satisfied, so loop wont work.\n",
        "  print(counter)\n",
        "  counter = counter+1\n",
        "print(\"thank you python\")"
      ],
      "metadata": {
        "colab": {
          "base_uri": "https://localhost:8080/"
        },
        "id": "lAQg6NZHRqC8",
        "outputId": "884fbf59-40e8-465c-8d33-3ff6e0a6d7e3"
      },
      "execution_count": 62,
      "outputs": [
        {
          "output_type": "stream",
          "name": "stdout",
          "text": [
            "thank you python\n"
          ]
        }
      ]
    },
    {
      "cell_type": "code",
      "source": [
        "counter=3\n",
        "while counter<=5:\n",
        "  print(counter)\n",
        "  counter = counter+1\n",
        "  print(\"thank you python\")"
      ],
      "metadata": {
        "colab": {
          "base_uri": "https://localhost:8080/"
        },
        "id": "W9QI5BOuR32l",
        "outputId": "cd305781-7121-44d3-dc61-e60e82814435"
      },
      "execution_count": 64,
      "outputs": [
        {
          "output_type": "stream",
          "name": "stdout",
          "text": [
            "3\n",
            "thank you python\n",
            "4\n",
            "thank you python\n",
            "5\n",
            "thank you python\n"
          ]
        }
      ]
    },
    {
      "cell_type": "markdown",
      "source": [
        ""
      ],
      "metadata": {
        "id": "sS_Hl0KvWAfg"
      }
    },
    {
      "cell_type": "code",
      "source": [
        "#for loop\n",
        "\n",
        "for counter in range(5):\n",
        "  print(counter)"
      ],
      "metadata": {
        "colab": {
          "base_uri": "https://localhost:8080/"
        },
        "id": "xykXvpGpSkIq",
        "outputId": "611f934c-8119-41cc-ff08-9c8c5f0eb185"
      },
      "execution_count": 67,
      "outputs": [
        {
          "output_type": "stream",
          "name": "stdout",
          "text": [
            "0\n",
            "1\n",
            "2\n",
            "3\n",
            "4\n"
          ]
        }
      ]
    },
    {
      "cell_type": "code",
      "source": [
        "for counter in range(5):\n",
        "  print(\"Hello python- \",counter)"
      ],
      "metadata": {
        "colab": {
          "base_uri": "https://localhost:8080/"
        },
        "id": "zNy95tysS3DB",
        "outputId": "c93b7f81-a5b8-443b-a977-4833002131ba"
      },
      "execution_count": 70,
      "outputs": [
        {
          "output_type": "stream",
          "name": "stdout",
          "text": [
            "Hello python-  0\n",
            "Hello python-  1\n",
            "Hello python-  2\n",
            "Hello python-  3\n",
            "Hello python-  4\n"
          ]
        }
      ]
    },
    {
      "cell_type": "code",
      "source": [
        "for counter in range(5,2,-1):\n",
        "  print(\"Hello python- \",counter)"
      ],
      "metadata": {
        "colab": {
          "base_uri": "https://localhost:8080/"
        },
        "id": "jP3a5qzFTTXZ",
        "outputId": "26886d37-ab91-4f3c-d562-fea2039ba440"
      },
      "execution_count": 103,
      "outputs": [
        {
          "output_type": "stream",
          "name": "stdout",
          "text": [
            "Hello python-  5\n",
            "Hello python-  4\n",
            "Hello python-  3\n"
          ]
        }
      ]
    },
    {
      "cell_type": "code",
      "source": [
        "for counter in range(5,12,1):\n",
        "  print(\"Hello python- \",counter)"
      ],
      "metadata": {
        "colab": {
          "base_uri": "https://localhost:8080/"
        },
        "id": "4hRseuMNaGO3",
        "outputId": "322fb806-d740-4947-86fc-45fa09ce1cae"
      },
      "execution_count": 100,
      "outputs": [
        {
          "output_type": "stream",
          "name": "stdout",
          "text": [
            "Hello python-  5\n",
            "Hello python-  6\n",
            "Hello python-  7\n",
            "Hello python-  8\n",
            "Hello python-  9\n",
            "Hello python-  10\n",
            "Hello python-  11\n"
          ]
        }
      ]
    },
    {
      "cell_type": "code",
      "source": [
        "#if/else statement\n",
        "\n",
        "X=2\n",
        "y=6\n",
        "if x>y:\n",
        "  print(\"x is greater\")\n",
        "else:\n",
        "  print(\"y is greater\")"
      ],
      "metadata": {
        "colab": {
          "base_uri": "https://localhost:8080/"
        },
        "id": "-H0nqDhmT-54",
        "outputId": "7c55d693-78b9-493b-fba2-835554be8a21"
      },
      "execution_count": 104,
      "outputs": [
        {
          "output_type": "stream",
          "name": "stdout",
          "text": [
            "x is greater\n"
          ]
        }
      ]
    },
    {
      "cell_type": "code",
      "source": [
        "import numpy as np  #importing the package numpy\n",
        "from numpy.random import randn  #randn is function for take random number"
      ],
      "metadata": {
        "id": "KsQDBsl2Z_-k"
      },
      "execution_count": 105,
      "outputs": []
    },
    {
      "cell_type": "code",
      "source": [
        "x= randn()\n",
        "x"
      ],
      "metadata": {
        "colab": {
          "base_uri": "https://localhost:8080/"
        },
        "id": "bRCv4ZEOcHrY",
        "outputId": "54f9133f-a14b-41e6-a98c-86f0e5fc8d34"
      },
      "execution_count": 109,
      "outputs": [
        {
          "output_type": "execute_result",
          "data": {
            "text/plain": [
              "0.9489427568284231"
            ]
          },
          "metadata": {},
          "execution_count": 109
        }
      ]
    },
    {
      "cell_type": "code",
      "source": [
        "result = None     #defining result as none cuz there won't be any error if the condition is not satified.\n",
        "x= randn()\n",
        "if x>1:\n",
        "  result = \"greater than 1\"\n",
        "print(x)\n",
        "print(result)     #result only come without error when if condition is satisfied"
      ],
      "metadata": {
        "colab": {
          "base_uri": "https://localhost:8080/"
        },
        "id": "5H65EfM1cfZH",
        "outputId": "946ed50c-d62e-4173-d9ef-14e09671fbcf"
      },
      "execution_count": 123,
      "outputs": [
        {
          "output_type": "stream",
          "name": "stdout",
          "text": [
            "0.5066289396196887\n",
            "None\n"
          ]
        }
      ]
    },
    {
      "cell_type": "code",
      "source": [
        "x= randn()\n",
        "if x>1:\n",
        "  result = \"greater than 1\"\n",
        "else:\n",
        "  result= \"less than 1\"\n",
        "print(x)\n",
        "print(result) \n"
      ],
      "metadata": {
        "colab": {
          "base_uri": "https://localhost:8080/"
        },
        "id": "mdrms3gOcnwy",
        "outputId": "931a3bfd-f904-4f39-ad21-c15da37358bd"
      },
      "execution_count": 122,
      "outputs": [
        {
          "output_type": "stream",
          "name": "stdout",
          "text": [
            "-0.5612670306714398\n",
            "less than 1\n"
          ]
        }
      ]
    },
    {
      "cell_type": "code",
      "source": [
        "result = None         #NESTED IF statement\n",
        "x= randn()\n",
        "if x>1:\n",
        "  result = \"greater than 1\"\n",
        "else:\n",
        "  if x>=-1:\n",
        "    result= \"between 1 and -1\"\n",
        "  else:\n",
        "    result= \"less than -1\"\n",
        "print(x)\n",
        "print(result) "
      ],
      "metadata": {
        "colab": {
          "base_uri": "https://localhost:8080/"
        },
        "id": "ue5ntBnweB_O",
        "outputId": "0bb0826c-3f21-499a-fdc3-4bc584eedaaf"
      },
      "execution_count": 126,
      "outputs": [
        {
          "output_type": "stream",
          "name": "stdout",
          "text": [
            "0.7651560704535939\n",
            "between 1 and -1\n"
          ]
        }
      ]
    },
    {
      "cell_type": "code",
      "source": [
        ""
      ],
      "metadata": {
        "id": "w2SJWflpgFYE"
      },
      "execution_count": null,
      "outputs": []
    }
  ]
}